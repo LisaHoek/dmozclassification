{
  "nbformat": 4,
  "nbformat_minor": 0,
  "metadata": {
    "colab": {
      "name": "ThesisLisa_ColabNotebook.ipynb",
      "provenance": []
    },
    "kernelspec": {
      "name": "python3",
      "display_name": "Python 3"
    }
  },
  "cells": [
    {
      "cell_type": "markdown",
      "metadata": {
        "id": "JS6FaRvZJHaH"
      },
      "source": [
        "## Google Colab Notebook to create dataframe from DMOZ data\n",
        "\n",
        "Requirement: download 'content.rdf.u8' with Wayback Machine from DMOZ's website and store it in your Google Drive"
      ]
    },
    {
      "cell_type": "markdown",
      "metadata": {
        "id": "ktl2PIQ9JwnV"
      },
      "source": [
        "Author: Lisa Hoek"
      ]
    },
    {
      "cell_type": "code",
      "metadata": {
        "id": "qgPWTHt6bdSb"
      },
      "source": [
        "import os\n",
        "from pydrive.auth import GoogleAuth\n",
        "from pydrive.drive import GoogleDrive\n",
        "from google.colab import auth\n",
        "from oauth2client.client import GoogleCredentials"
      ],
      "execution_count": null,
      "outputs": []
    },
    {
      "cell_type": "code",
      "metadata": {
        "id": "m-GBuQSbbj3d"
      },
      "source": [
        "# Give permission to Google drive\n",
        "auth.authenticate_user()\n",
        "gauth = GoogleAuth()\n",
        "gauth.credentials = GoogleCredentials.get_application_default()\n",
        "drive = GoogleDrive(gauth)"
      ],
      "execution_count": null,
      "outputs": []
    },
    {
      "cell_type": "code",
      "metadata": {
        "id": "Au0aPmSpbkLF"
      },
      "source": [
        "# Make sure the content.rdf.u8 file is in your google drive. The ID is part of the link to the file (click on retrieve link)\n",
        "id = \"INSERT_ID_HERE\"\n",
        "downloaded = drive.CreateFile({'id':id})\n",
        "downloaded.GetContentFile('content.rdf.u8')"
      ],
      "execution_count": null,
      "outputs": []
    },
    {
      "cell_type": "code",
      "metadata": {
        "id": "6fys9Ljzc2aD"
      },
      "source": [
        "import re\n",
        "import pandas as pd\n",
        "import matplotlib.pyplot as plt"
      ],
      "execution_count": null,
      "outputs": []
    },
    {
      "cell_type": "code",
      "metadata": {
        "id": "3g9i-KTHbkZX"
      },
      "source": [
        "df = pd.DataFrame(columns=['maincategory','categories', 'url', 'title'])\n",
        "\n",
        "with open('content.rdf.u8', 'r') as contents:\n",
        "    lines = contents.read().split(\"</ExternalPage>\")"
      ],
      "execution_count": null,
      "outputs": []
    },
    {
      "cell_type": "code",
      "metadata": {
        "id": "VMDh_elm7cZS"
      },
      "source": [
        "topics_mainlist = []\n",
        "topics_list = []\n",
        "titles_list = []\n",
        "urls_list = []\n",
        "\n",
        "lines = [str(line) for line in lines]\n",
        "for line in lines:\n",
        "  titles = re.findall('<d:Title>(.+)</d:Title>', line)\n",
        "  urls = re.findall('<ExternalPage about=\"(.+)\">', line)\n",
        "  topics = re.findall('<topic>(.+)</topic>', line)\n",
        "  if titles and urls and topics:\n",
        "    topics_mainlist.append(topics[0].split('/')[1])\n",
        "    topics_list.append(topics[0])\n",
        "    titles_list.append(titles[0])\n",
        "    urls_list.append(urls[0])\n"
      ],
      "execution_count": null,
      "outputs": []
    },
    {
      "cell_type": "code",
      "metadata": {
        "id": "P_xVhPf974GN"
      },
      "source": [
        "del lines\n",
        "del titles\n",
        "del urls\n",
        "del topics"
      ],
      "execution_count": null,
      "outputs": []
    },
    {
      "cell_type": "code",
      "metadata": {
        "colab": {
          "base_uri": "https://localhost:8080/"
        },
        "id": "l1kJciAd9WrB",
        "outputId": "8989f9ba-6fcb-4691-ed8d-6d17990caf02"
      },
      "source": [
        "print(topics_mainlist[0])\n",
        "print(topics_list[0])\n",
        "print(titles_list[0])\n",
        "print(urls_list[0])"
      ],
      "execution_count": null,
      "outputs": [
        {
          "output_type": "stream",
          "text": [
            "Arts\n",
            "Top/Arts/Animation\n",
            "Animation World Network\n",
            "http://www.awn.com/\n"
          ],
          "name": "stdout"
        }
      ]
    },
    {
      "cell_type": "code",
      "metadata": {
        "id": "Dz-e8a5Kb8OS"
      },
      "source": [
        "df.maincategory = topics_mainlist\n",
        "df.categories = topics_list\n",
        "df.url = urls_list\n",
        "df.title = titles_list"
      ],
      "execution_count": null,
      "outputs": []
    },
    {
      "cell_type": "code",
      "metadata": {
        "id": "0nNLbFGUb9wW",
        "colab": {
          "base_uri": "https://localhost:8080/",
          "height": 204
        },
        "outputId": "f9cb7d33-92cb-453f-aeb3-8210e477141c"
      },
      "source": [
        "df.head()"
      ],
      "execution_count": null,
      "outputs": [
        {
          "output_type": "execute_result",
          "data": {
            "text/html": [
              "<div>\n",
              "<style scoped>\n",
              "    .dataframe tbody tr th:only-of-type {\n",
              "        vertical-align: middle;\n",
              "    }\n",
              "\n",
              "    .dataframe tbody tr th {\n",
              "        vertical-align: top;\n",
              "    }\n",
              "\n",
              "    .dataframe thead th {\n",
              "        text-align: right;\n",
              "    }\n",
              "</style>\n",
              "<table border=\"1\" class=\"dataframe\">\n",
              "  <thead>\n",
              "    <tr style=\"text-align: right;\">\n",
              "      <th></th>\n",
              "      <th>maincategory</th>\n",
              "      <th>categories</th>\n",
              "      <th>url</th>\n",
              "      <th>title</th>\n",
              "    </tr>\n",
              "  </thead>\n",
              "  <tbody>\n",
              "    <tr>\n",
              "      <th>0</th>\n",
              "      <td>Arts</td>\n",
              "      <td>Top/Arts/Animation</td>\n",
              "      <td>http://www.awn.com/</td>\n",
              "      <td>Animation World Network</td>\n",
              "    </tr>\n",
              "    <tr>\n",
              "      <th>1</th>\n",
              "      <td>Arts</td>\n",
              "      <td>Top/Arts/Animation</td>\n",
              "      <td>http://animation.about.com/</td>\n",
              "      <td>About.com: Animation Guide</td>\n",
              "    </tr>\n",
              "    <tr>\n",
              "      <th>2</th>\n",
              "      <td>Arts</td>\n",
              "      <td>Top/Arts/Animation</td>\n",
              "      <td>http://www.toonhound.com/</td>\n",
              "      <td>Toonhound</td>\n",
              "    </tr>\n",
              "    <tr>\n",
              "      <th>3</th>\n",
              "      <td>Arts</td>\n",
              "      <td>Top/Arts/Animation</td>\n",
              "      <td>http://www.digitalmediafx.com/Features/animati...</td>\n",
              "      <td>Digital Media FX: The History of Animation</td>\n",
              "    </tr>\n",
              "    <tr>\n",
              "      <th>4</th>\n",
              "      <td>Arts</td>\n",
              "      <td>Top/Arts/Animation</td>\n",
              "      <td>http://www.animated-divots.net/</td>\n",
              "      <td>Richard's Animated Divots</td>\n",
              "    </tr>\n",
              "  </tbody>\n",
              "</table>\n",
              "</div>"
            ],
            "text/plain": [
              "  maincategory  ...                                       title\n",
              "0         Arts  ...                     Animation World Network\n",
              "1         Arts  ...                  About.com: Animation Guide\n",
              "2         Arts  ...                                   Toonhound\n",
              "3         Arts  ...  Digital Media FX: The History of Animation\n",
              "4         Arts  ...                   Richard's Animated Divots\n",
              "\n",
              "[5 rows x 4 columns]"
            ]
          },
          "metadata": {
            "tags": []
          },
          "execution_count": 10
        }
      ]
    },
    {
      "cell_type": "code",
      "metadata": {
        "colab": {
          "base_uri": "https://localhost:8080/",
          "height": 204
        },
        "id": "cq4eUdpnEeFl",
        "outputId": "ce072470-3ece-405f-efbe-a01aad63f376"
      },
      "source": [
        "df.tail()"
      ],
      "execution_count": null,
      "outputs": [
        {
          "output_type": "execute_result",
          "data": {
            "text/html": [
              "<div>\n",
              "<style scoped>\n",
              "    .dataframe tbody tr th:only-of-type {\n",
              "        vertical-align: middle;\n",
              "    }\n",
              "\n",
              "    .dataframe tbody tr th {\n",
              "        vertical-align: top;\n",
              "    }\n",
              "\n",
              "    .dataframe thead th {\n",
              "        text-align: right;\n",
              "    }\n",
              "</style>\n",
              "<table border=\"1\" class=\"dataframe\">\n",
              "  <thead>\n",
              "    <tr style=\"text-align: right;\">\n",
              "      <th></th>\n",
              "      <th>maincategory</th>\n",
              "      <th>categories</th>\n",
              "      <th>url</th>\n",
              "      <th>title</th>\n",
              "    </tr>\n",
              "  </thead>\n",
              "  <tbody>\n",
              "    <tr>\n",
              "      <th>3573021</th>\n",
              "      <td>World</td>\n",
              "      <td>Top/World/Uyghurche/Salametlik</td>\n",
              "      <td>http://www.tebabat.cn/</td>\n",
              "      <td>Tébabet tor békiti</td>\n",
              "    </tr>\n",
              "    <tr>\n",
              "      <th>3573022</th>\n",
              "      <td>World</td>\n",
              "      <td>Top/World/Uyghurche/Xewer</td>\n",
              "      <td>http://www.xjtsnews.com/</td>\n",
              "      <td>Tengritagh uyghur tori</td>\n",
              "    </tr>\n",
              "    <tr>\n",
              "      <th>3573023</th>\n",
              "      <td>World</td>\n",
              "      <td>Top/World/Uyghurche/Xewer</td>\n",
              "      <td>http://www.rfa.org/</td>\n",
              "      <td>Erkin asiya radiosi</td>\n",
              "    </tr>\n",
              "    <tr>\n",
              "      <th>3573024</th>\n",
              "      <td>World</td>\n",
              "      <td>Top/World/Uyghurche/Xewer</td>\n",
              "      <td>http://www.uygurlar.org/</td>\n",
              "      <td>Uyghurlar tori</td>\n",
              "    </tr>\n",
              "    <tr>\n",
              "      <th>3573025</th>\n",
              "      <td>World</td>\n",
              "      <td>Top/World/Uyghurche/Xewer</td>\n",
              "      <td>http://www.istiqlaltv.com/</td>\n",
              "      <td>Istiqlal radio-tilivizisi</td>\n",
              "    </tr>\n",
              "  </tbody>\n",
              "</table>\n",
              "</div>"
            ],
            "text/plain": [
              "        maincategory  ...                      title\n",
              "3573021        World  ...         Tébabet tor békiti\n",
              "3573022        World  ...     Tengritagh uyghur tori\n",
              "3573023        World  ...        Erkin asiya radiosi\n",
              "3573024        World  ...             Uyghurlar tori\n",
              "3573025        World  ...  Istiqlal radio-tilivizisi\n",
              "\n",
              "[5 rows x 4 columns]"
            ]
          },
          "metadata": {
            "tags": []
          },
          "execution_count": 11
        }
      ]
    },
    {
      "cell_type": "code",
      "metadata": {
        "colab": {
          "base_uri": "https://localhost:8080/"
        },
        "id": "BwFTzKhI9fMG",
        "outputId": "5703b1d7-31ba-4281-8e62-8e8f5ed667c2"
      },
      "source": [
        "# New shape\n",
        "df.shape"
      ],
      "execution_count": null,
      "outputs": [
        {
          "output_type": "execute_result",
          "data": {
            "text/plain": [
              "(3573026, 4)"
            ]
          },
          "metadata": {
            "tags": []
          },
          "execution_count": 12
        }
      ]
    },
    {
      "cell_type": "code",
      "metadata": {
        "id": "hXWN3EnLlNgf",
        "colab": {
          "base_uri": "https://localhost:8080/"
        },
        "outputId": "cf85c503-e9f4-417d-d554-1945ab3ff4aa"
      },
      "source": [
        "# Utsav's Old shape (35259057, 4)\n",
        "df.shape"
      ],
      "execution_count": null,
      "outputs": [
        {
          "output_type": "execute_result",
          "data": {
            "text/plain": [
              "(3529057, 4)"
            ]
          },
          "metadata": {
            "tags": []
          },
          "execution_count": 15
        }
      ]
    },
    {
      "cell_type": "code",
      "metadata": {
        "id": "drZ35XpJlI5n"
      },
      "source": [
        "df = df.drop(df[df.maincategory == 'World'].index)\n",
        "df = df.drop(df[df.maincategory == 'Regional'].index)"
      ],
      "execution_count": null,
      "outputs": []
    },
    {
      "cell_type": "code",
      "metadata": {
        "colab": {
          "base_uri": "https://localhost:8080/"
        },
        "id": "ndgj_Yp58KPC",
        "outputId": "1994f22a-94cf-4503-c6ad-8d1977e0ce94"
      },
      "source": [
        "print(\"Shape without World and Regional\")\n",
        "df.shape"
      ],
      "execution_count": null,
      "outputs": [
        {
          "output_type": "stream",
          "text": [
            "Shape without World and Regional\n"
          ],
          "name": "stdout"
        },
        {
          "output_type": "execute_result",
          "data": {
            "text/plain": [
              "(1002735, 4)"
            ]
          },
          "metadata": {
            "tags": []
          },
          "execution_count": 16
        }
      ]
    },
    {
      "cell_type": "code",
      "metadata": {
        "colab": {
          "base_uri": "https://localhost:8080/",
          "height": 204
        },
        "id": "57592wH18Jzj",
        "outputId": "485c78e5-14af-4c7f-8f98-fbaf51e84ca4"
      },
      "source": [
        "df.tail()"
      ],
      "execution_count": null,
      "outputs": [
        {
          "output_type": "execute_result",
          "data": {
            "text/html": [
              "<div>\n",
              "<style scoped>\n",
              "    .dataframe tbody tr th:only-of-type {\n",
              "        vertical-align: middle;\n",
              "    }\n",
              "\n",
              "    .dataframe tbody tr th {\n",
              "        vertical-align: top;\n",
              "    }\n",
              "\n",
              "    .dataframe thead th {\n",
              "        text-align: right;\n",
              "    }\n",
              "</style>\n",
              "<table border=\"1\" class=\"dataframe\">\n",
              "  <thead>\n",
              "    <tr style=\"text-align: right;\">\n",
              "      <th></th>\n",
              "      <th>maincategory</th>\n",
              "      <th>categories</th>\n",
              "      <th>url</th>\n",
              "      <th>title</th>\n",
              "    </tr>\n",
              "  </thead>\n",
              "  <tbody>\n",
              "    <tr>\n",
              "      <th>1908198</th>\n",
              "      <td>Sports</td>\n",
              "      <td>Top/Sports/Youth_and_High_School</td>\n",
              "      <td>http://www.nays.org/</td>\n",
              "      <td>National Alliance For Youth Sports</td>\n",
              "    </tr>\n",
              "    <tr>\n",
              "      <th>1908199</th>\n",
              "      <td>Sports</td>\n",
              "      <td>Top/Sports/Youth_and_High_School</td>\n",
              "      <td>http://www.aod.org/being-catholic/catholic-you...</td>\n",
              "      <td>Detroit Catholic High School League</td>\n",
              "    </tr>\n",
              "    <tr>\n",
              "      <th>1908200</th>\n",
              "      <td>Sports</td>\n",
              "      <td>Top/Sports/Youth_and_High_School/News_and_Media</td>\n",
              "      <td>http://www.maxpreps.com/</td>\n",
              "      <td>MaxPreps.com</td>\n",
              "    </tr>\n",
              "    <tr>\n",
              "      <th>1908201</th>\n",
              "      <td>Sports</td>\n",
              "      <td>Top/Sports/Youth_and_High_School/News_and_Media</td>\n",
              "      <td>http://www.myscore.com/</td>\n",
              "      <td>My Score</td>\n",
              "    </tr>\n",
              "    <tr>\n",
              "      <th>1908202</th>\n",
              "      <td>Sports</td>\n",
              "      <td>Top/Sports/Youth_and_High_School/News_and_Media</td>\n",
              "      <td>http://www.usatodayhss.com/news/</td>\n",
              "      <td>USA Today: High School Sports</td>\n",
              "    </tr>\n",
              "  </tbody>\n",
              "</table>\n",
              "</div>"
            ],
            "text/plain": [
              "        maincategory  ...                                title\n",
              "1908198       Sports  ...   National Alliance For Youth Sports\n",
              "1908199       Sports  ...  Detroit Catholic High School League\n",
              "1908200       Sports  ...                         MaxPreps.com\n",
              "1908201       Sports  ...                             My Score\n",
              "1908202       Sports  ...        USA Today: High School Sports\n",
              "\n",
              "[5 rows x 4 columns]"
            ]
          },
          "metadata": {
            "tags": []
          },
          "execution_count": 17
        }
      ]
    },
    {
      "cell_type": "code",
      "metadata": {
        "colab": {
          "base_uri": "https://localhost:8080/",
          "height": 380
        },
        "id": "DWLY69lt8_tn",
        "outputId": "5cca3ea4-8b00-44ad-dd9a-906dbb2f186e"
      },
      "source": [
        "plt.figure(figsize=(12, 5))\n",
        "df.maincategory.value_counts().plot(kind='bar');\n",
        "plt.title('Category counts');"
      ],
      "execution_count": null,
      "outputs": [
        {
          "output_type": "display_data",
          "data": {
            "image/png": "[encoded data removed]",
            "text/plain": [
              "<Figure size 864x360 with 1 Axes>"
            ]
          },
          "metadata": {
            "tags": [],
            "needs_background": "light"
          }
        }
      ]
    },
    {
      "cell_type": "code",
      "metadata": {
        "id": "I9Gbfkh_gPie",
        "colab": {
          "base_uri": "https://localhost:8080/"
        },
        "outputId": "f908a712-65ca-4c54-ed25-b05d5e39efe2"
      },
      "source": [
        "from google.colab import drive\n",
        "drive.mount('drive')"
      ],
      "execution_count": null,
      "outputs": [
        {
          "output_type": "stream",
          "text": [
            "Mounted at drive\n"
          ],
          "name": "stdout"
        }
      ]
    },
    {
      "cell_type": "code",
      "metadata": {
        "id": "Q81O3NrKgTbL"
      },
      "source": [
        "df.to_csv('urls.csv')\n",
        "!cp urls.csv \"drive/My Drive/\""
      ],
      "execution_count": null,
      "outputs": []
    }
  ]
}